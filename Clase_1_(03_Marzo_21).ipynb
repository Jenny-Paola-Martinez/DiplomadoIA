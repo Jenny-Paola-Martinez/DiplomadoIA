{
  "nbformat": 4,
  "nbformat_minor": 0,
  "metadata": {
    "colab": {
      "name": "Clase 1 (03 Marzo 21).ipynb",
      "provenance": []
    },
    "kernelspec": {
      "name": "python3",
      "display_name": "Python 3"
    }
  },
  "cells": [
    {
      "cell_type": "markdown",
      "metadata": {
        "id": "E4vZyduHdhjn"
      },
      "source": [
        "# Título\n",
        "\n",
        "\n",
        "\n"
      ]
    },
    {
      "cell_type": "markdown",
      "metadata": {
        "id": "uWw0RAkkjlkS"
      },
      "source": [
        "## Subtítulo\n",
        "\n",
        "[Wikipedia Calila y Dimna](https://es.wikipedia.org/wiki/Calila_y_Dimna)\n",
        "\n",
        "![Calila](https://m.media-amazon.com/images/I/51r6YavcL1L.jpg)\n",
        "\n",
        "[Cómo aprender Markdown](https://www.markdownguide.org/basic-syntax/)"
      ]
    },
    {
      "cell_type": "markdown",
      "metadata": {
        "id": "uEm2bhd2j2uT"
      },
      "source": [
        "# Estilos de letra\n",
        "\n",
        "\n"
      ]
    },
    {
      "cell_type": "markdown",
      "metadata": {
        "id": "t6o-sXLPn3v6"
      },
      "source": [
        "* \"Cursiva\" *\n",
        "\n",
        "**Negrita**\n",
        "\n",
        "> Indentación o Sangría\n"
      ]
    },
    {
      "cell_type": "markdown",
      "metadata": {
        "id": "Rnntfyi3oQe0"
      },
      "source": [
        "# Código"
      ]
    },
    {
      "cell_type": "code",
      "metadata": {
        "colab": {
          "base_uri": "https://localhost:8080/"
        },
        "id": "TFVg2apInx09",
        "outputId": "b0e0169b-2727-445a-a702-3f2dc986182c"
      },
      "source": [
        "print(\"Hola Jenny\")"
      ],
      "execution_count": 1,
      "outputs": [
        {
          "output_type": "stream",
          "text": [
            "Hola Jenny\n"
          ],
          "name": "stdout"
        }
      ]
    }
  ]
}